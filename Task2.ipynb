{
 "cells": [
  {
   "cell_type": "code",
   "execution_count": 10,
   "id": "19efa8b5",
   "metadata": {},
   "outputs": [
    {
     "name": "stdout",
     "output_type": "stream",
     "text": [
      "Dataset Preview:\n",
      "                                                text sentiment\n",
      "0  My daughter liked it but I was aghast, that a ...       neg\n",
      "1  I... No words. No words can describe this. I w...       neg\n",
      "2  this film is basically a poor take on the old ...       neg\n",
      "3  This is a terrible movie, and I'm not even sur...       neg\n",
      "4  First of all this movie is a piece of reality ...       pos\n",
      "\n",
      "Checking for missing values...\n",
      "text         0\n",
      "sentiment    0\n",
      "dtype: int64\n",
      "\n",
      "Classification Report:\n",
      "              precision    recall  f1-score   support\n",
      "\n",
      "           0       0.85      0.82      0.83       101\n",
      "           1       0.82      0.85      0.84        99\n",
      "\n",
      "    accuracy                           0.83       200\n",
      "   macro avg       0.84      0.84      0.83       200\n",
      "weighted avg       0.84      0.83      0.83       200\n",
      "\n",
      "\n",
      "Accuracy: 0.835\n"
     ]
    }
   ],
   "source": [
    "# Import necessary libraries\n",
    "import pandas as pd\n",
    "from sklearn.model_selection import train_test_split\n",
    "from sklearn.feature_extraction.text import TfidfVectorizer\n",
    "from sklearn.linear_model import LogisticRegression\n",
    "from sklearn.metrics import classification_report, accuracy_score\n",
    "\n",
    "# Step 1: Load the dataset\n",
    "data = pd.read_csv('C:\\\\Users\\\\Dell\\\\OneDrive\\\\Desktop\\\\CODETECH\\\\sentiment\\\\movie\\\\dataset.csv')\n",
    "  # Replace with your file path\n",
    "\n",
    "# Display the first few rows of the dataset\n",
    "print(\"Dataset Preview:\")\n",
    "print(data.head())\n",
    "\n",
    "# Step 2: Check for missing values\n",
    "print(\"\\nChecking for missing values...\")\n",
    "print(data.isnull().sum())\n",
    "\n",
    "# Assuming the dataset has 'review' and 'sentiment' columns\n",
    "# Replace these column names with the actual ones if different\n",
    "assert 'text' in data.columns and 'sentiment' in data.columns, \"Dataset must have 'text' and 'sentiment' columns\"\n",
    "# Step 3: Preprocess the data\n",
    "# Remove missing values\n",
    "data.dropna(subset=['text', 'sentiment'], inplace=True)\n",
    "\n",
    "# Map sentiment labels to binary values if necessary (e.g., positive -> 1, negative -> 0)\n",
    "data['sentiment'] = data['sentiment'].map({'pos': 1, 'neg': 0})\n",
    "\n",
    "# Step 4: Split the dataset\n",
    "X = data['text']  # Use 'text' instead of 'review'\n",
    "y = data['sentiment']\n",
    "X_train, X_test, y_train, y_test = train_test_split(X, y, test_size=0.2, random_state=42)\n",
    "\n",
    "# Step 5: Vectorize the text data using TF-IDF\n",
    "vectorizer = TfidfVectorizer(max_features=5000)\n",
    "X_train_tfidf = vectorizer.fit_transform(X_train)\n",
    "X_test_tfidf = vectorizer.transform(X_test)\n",
    "\n",
    "# Step 6: Train a Logistic Regression model\n",
    "model = LogisticRegression()\n",
    "model.fit(X_train_tfidf, y_train)\n",
    "\n",
    "# Step 7: Evaluate the model\n",
    "y_pred = model.predict(X_test_tfidf)\n",
    "\n",
    "print(\"\\nClassification Report:\")\n",
    "print(classification_report(y_test, y_pred))\n",
    "\n",
    "print(\"\\nAccuracy:\", accuracy_score(y_test, y_pred))"
   ]
  },
  {
   "cell_type": "code",
   "execution_count": null,
   "id": "f45473f1",
   "metadata": {},
   "outputs": [],
   "source": []
  },
  {
   "cell_type": "code",
   "execution_count": null,
   "id": "25f51fc3",
   "metadata": {},
   "outputs": [],
   "source": []
  }
 ],
 "metadata": {
  "kernelspec": {
   "display_name": "Python 3 (ipykernel)",
   "language": "python",
   "name": "python3"
  },
  "language_info": {
   "codemirror_mode": {
    "name": "ipython",
    "version": 3
   },
   "file_extension": ".py",
   "mimetype": "text/x-python",
   "name": "python",
   "nbconvert_exporter": "python",
   "pygments_lexer": "ipython3",
   "version": "3.9.12"
  }
 },
 "nbformat": 4,
 "nbformat_minor": 5
}
